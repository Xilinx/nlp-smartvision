{
 "cells": [
  {
   "cell_type": "markdown",
   "metadata": {},
   "source": [
    "![Xilinx Logo](images/xilinx_logo.png \"Xilinx Logo\")"
   ]
  },
  {
   "cell_type": "markdown",
   "metadata": {},
   "source": [
    "# Introduction:\n",
    "\n",
    "This notebook demonstrates how to run the Live Audio + Video Example on SOM module.\n",
    "\n",
    "    Audio --> Keyword Spotting (KWS) from Live Audio Source.\n",
    "\n",
    "    Video --> 1. Face Detection\n",
    "              2. Object Detection \n",
    "              3. Number Plate Detection\n",
    "\n",
    "In this demo, both speech and vision input streams are captured and processed in parallel on a single device. The demo is capable to detect a keyword and perform predefined tasks mapped to those particular keywords.\n"
   ]
  },
  {
   "cell_type": "markdown",
   "metadata": {},
   "source": [
    "![Motivation](images/Motivation.png \"Motivation\")"
   ]
  },
  {
   "cell_type": "markdown",
   "metadata": {},
   "source": [
    "# List of Tasks and their corresponding Keyword Mapping \n",
    "\n",
    "The 10 Keywords from Google Command dataset shown below are mapped to 10 spearate tasks for all the three tasks. For details please refer the below figure."
   ]
  },
  {
   "cell_type": "markdown",
   "metadata": {},
   "source": [
    "![Mapping](images/KWS_AV_Solution.png \"Mapping\")"
   ]
  },
  {
   "cell_type": "markdown",
   "metadata": {},
   "source": [
    "# Setup the Demo"
   ]
  },
  {
   "cell_type": "code",
   "execution_count": null,
   "metadata": {},
   "outputs": [],
   "source": [
    "#Initialize the video pipeline\n",
    "! /opt/xilinx/bin/init-nlp-smartvision.sh\n"
   ]
  },
  {
   "cell_type": "markdown",
   "metadata": {},
   "source": [
    "# Run the Demo"
   ]
  },
  {
   "cell_type": "code",
   "execution_count": null,
   "metadata": {},
   "outputs": [],
   "source": [
    "# Command to launch the demo \n",
    "! LD_LIBRARY_PATH=/opt/xilinx/lib /opt/xilinx/bin/nlp-smartvision -l"
   ]
  },
  {
   "cell_type": "code",
   "execution_count": null,
   "metadata": {},
   "outputs": [],
   "source": []
  }
 ],
 "metadata": {
  "kernelspec": {
   "display_name": "Python 3",
   "language": "python",
   "name": "python3"
  },
  "language_info": {
   "codemirror_mode": {
    "name": "ipython",
    "version": 3
   },
   "file_extension": ".py",
   "mimetype": "text/x-python",
   "name": "python",
   "nbconvert_exporter": "python",
   "pygments_lexer": "ipython3",
   "version": "3.8.5"
  }
 },
 "nbformat": 4,
 "nbformat_minor": 4
}
