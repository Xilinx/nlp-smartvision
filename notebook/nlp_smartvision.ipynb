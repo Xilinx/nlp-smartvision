{
 "cells": [
  {
   "cell_type": "markdown",
   "metadata": {},
   "source": [
    "![Xilinx Logo](images/xilinx_logo.png \"Xilinx Logo\")"
   ]
  },
  {
   "cell_type": "markdown",
   "metadata": {},
   "source": [
    "# Introduction:\n",
    "\n",
    "This notebook demonstrates how to run the Live Audio + Video Example on SOM module.\n",
    "\n",
    "    Audio --> Keyword Spotting (KWS) from Live Audio Source.\n",
    "\n",
    "    Video --> 1. Face Detection\n",
    "              2. Object Detection \n",
    "              3. Number Plate Detection\n",
    "\n",
    "In this demo, both speech and vision input streams are captured and processed in parallel on a single device. The demo is capable to detect a keyword and perform predefined tasks mapped to those particular keywords.\n"
   ]
  },
  {
   "cell_type": "markdown",
   "metadata": {},
   "source": [
    "![Motivation](images/Motivation.png \"Motivation\")"
   ]
  },
  {
   "cell_type": "markdown",
   "metadata": {},
   "source": [
    "# List of Tasks and their corresponding Keyword Mapping \n",
    "\n",
    "The 10 Keywords from Google Command dataset shown below are mapped to 10 spearate tasks for all the three tasks. For details please refer the below figure."
   ]
  },
  {
   "cell_type": "markdown",
   "metadata": {},
   "source": [
    "![Mapping](images/KWS_AV_Solution.png \"Mapping\")"
   ]
  },
  {
   "cell_type": "markdown",
   "metadata": {},
   "source": [
    "# Setup the Demo"
   ]
  },
  {
   "cell_type": "code",
   "execution_count": 2,
   "metadata": {},
   "outputs": [
    {
     "name": "stderr",
     "output_type": "stream",
     "text": [
      "'xmutil' is not recognized as an internal or external command,\n",
      "operable program or batch file.\n",
      "ERROR: Invalid syntax. Default option is not allowed more than '1' time(s).\n",
      "Type \"TIMEOUT /?\" for usage.\n"
     ]
    }
   ],
   "source": [
    "# Load the app using xmutil\n",
    "!xmutil loadapp kvs260-aa7\n",
    "\n",
    "# Set up the video pipeline\n",
    "!timeout 10s /opt/xilinx/bin/rgb_mipi-dp.sh\n"
   ]
  },
  {
   "cell_type": "markdown",
   "metadata": {},
   "source": [
    "# Run the Demo"
   ]
  },
  {
   "cell_type": "code",
   "execution_count": 3,
   "metadata": {},
   "outputs": [
    {
     "name": "stderr",
     "output_type": "stream",
     "text": [
      "'kws_aa' is not recognized as an internal or external command,\n",
      "operable program or batch file.\n"
     ]
    }
   ],
   "source": [
    "# Command to launch the demo\n",
    "!/opt/xilinx/bin/nlp_smartvision"
   ]
  }
 ],
 "metadata": {
  "kernelspec": {
   "display_name": "Python 3",
   "language": "python",
   "name": "python3"
  },
  "language_info": {
   "codemirror_mode": {
    "name": "ipython",
    "version": 3
   },
   "file_extension": ".py",
   "mimetype": "text/x-python",
   "name": "python",
   "nbconvert_exporter": "python",
   "pygments_lexer": "ipython3",
   "version": "3.8.5"
  }
 },
 "nbformat": 4,
 "nbformat_minor": 4
}
