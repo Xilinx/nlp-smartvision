{
 "cells": [
  {
   "cell_type": "markdown",
   "metadata": {},
   "source": [
    "![Xilinx Logo](images/xilinx_logo.png \"Xilinx Logo\")"
   ]
  },
  {
   "cell_type": "markdown",
   "metadata": {},
   "source": [
    "# 1. Introduction:\n",
    "\n",
    "This notebook demonstrates how to run the Live Audio + Video Example.\n",
    "\n",
    "    Audio --> Keyword Spotting (KWS) from Live Audio Source.\n",
    "\n",
    "    Video --> 1. Face Detection\n",
    "              2. Object Detection \n",
    "              3. Number Plate Detection\n",
    "              4. Image Segmentation \n"
   ]
  },
  {
   "cell_type": "markdown",
   "metadata": {},
   "source": [
    "# 2. Details of Keywords and Tasks Mapped to Each Keyword"
   ]
  },
  {
   "cell_type": "code",
   "execution_count": 23,
   "metadata": {},
   "outputs": [
    {
     "name": "stdout",
     "output_type": "stream",
     "text": [
      "==================================================================================================================\n",
      "| Keyword\\Task  | Face/Object/Numberplate                  | Segmentation      \n",
      "==================================================================================================================\n",
      "| YES           | Start Displaying Bounding Box            | Start Displaying Segmented Pixels\n",
      "| NO            | Stop Displaying Bounding Box             | Stop Displaying Segmented Pixels\n",
      "| LEFT          | Display Bounding Box Only for Left side  | Display Segmented Pixels Only for Left side\n",
      "| RIGHT         | Display Bounding Box Only for Right side | Display Segmented Pixels Only for Right side\n",
      "| OFF           | Switch OFF Monitor Display               | Switch OFF Monitor Display\n",
      "| ON            | Switch ON Monitor Display                | Switch ON Monitor Display\n",
      "| GO            | Toggle Bounding Box Color (B -> G -> R)  | Toggle Pixels Display for TOP/Bottom/Complete screen\n",
      "| STOP          | Reset to default                         | Reset to default  \n",
      "| UP            | Switch to Next Task                      | Switch to Next Task\n",
      "| DOWN          | Switch to Previous Task                  | Switch to Previous Task\n",
      "==================================================================================================================\n"
     ]
    }
   ],
   "source": [
    "## Python program to print the data\n",
    "d = {1: [\"| Keyword\\Task\", '| Face/Object/Numberplate', '| Segmentation'],\n",
    "2: [\"| YES\", '| Start Displaying Bounding Box', '| Start Displaying Segmented Pixels'],\n",
    "3: [\"| NO\", '| Stop Displaying Bounding Box', '| Stop Displaying Segmented Pixels'],\n",
    "4: [\"| LEFT\", '| Display Bounding Box Only for Left side', '| Display Segmented Pixels Only for Left side'],\n",
    "5: [\"| RIGHT\", '| Display Bounding Box Only for Right side', '| Display Segmented Pixels Only for Right side'],\n",
    "6: [\"| OFF\", '| Switch OFF Monitor Display', '| Switch OFF Monitor Display'],\n",
    "7: [\"| ON\", '| Switch ON Monitor Display', '| Switch ON Monitor Display'],\n",
    "8: [\"| GO\", '| Toggle Bounding Box Color (B -> G -> R)', '| Toggle Pixels Display for TOP/Bottom/Complete screen'],\n",
    "9: [\"| STOP\", '| Reset to default', '| Reset to default'],\n",
    "10: [\"| UP\", '| Switch to Next Task' , '| Switch to Next Task'],\n",
    "11: [\"| DOWN\", '| Switch to Previous Task', '| Switch to Previous Task']}\n",
    "\n",
    "# print (\"{:<8} {:<15} {:<10} {:<10}\".format('Pos','Lang','Percent','Change'))\n",
    "print(\"==================================================================================================================\")\n",
    "\n",
    "for k, v in d.items():\n",
    "    keyword, detect, segment = v\n",
    "    print (\"{:<15} {:<42} {:<20}\".format(keyword, detect, segment))\n",
    "    if (k==1):\n",
    "        print(\"==================================================================================================================\")\n",
    "print(\"==================================================================================================================\")        "
   ]
  },
  {
   "cell_type": "markdown",
   "metadata": {},
   "source": [
    "# 3.Steps to Run the Demo"
   ]
  },
  {
   "cell_type": "code",
   "execution_count": null,
   "metadata": {},
   "outputs": [],
   "source": [
    "# Add Steps to run the demo with !. All the terminal commands needs to entered here\n",
    "\n",
    "\n",
    "!xmutil loadapp aa7\n",
    "!livekws\n"
   ]
  }
 ],
 "metadata": {
  "kernelspec": {
   "display_name": "Python 3",
   "language": "python",
   "name": "python3"
  },
  "language_info": {
   "codemirror_mode": {
    "name": "ipython",
    "version": 3
   },
   "file_extension": ".py",
   "mimetype": "text/x-python",
   "name": "python",
   "nbconvert_exporter": "python",
   "pygments_lexer": "ipython3",
   "version": "3.8.5"
  }
 },
 "nbformat": 4,
 "nbformat_minor": 4
}
